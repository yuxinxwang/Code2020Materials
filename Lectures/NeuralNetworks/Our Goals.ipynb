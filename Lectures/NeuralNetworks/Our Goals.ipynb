{
 "cells": [
  {
   "cell_type": "markdown",
   "metadata": {},
   "source": [
    "# Our Goals\n",
    "\n",
    "Neural Networks are a huge field of machine learning and AI. They are versatile and can perform a large number of tasks quite well.\n",
    "\n",
    "We believe that to properly cover this field would encompass its own 3 week boot camp course (or maybe even longer).\n",
    "\n",
    "Thus our goal of this day is to introduce the building blocks of the field and show you how you can implement the bare mimimum models within `sklearn`.\n",
    "\n",
    "At the end we'll provide you with links to additional resources you can use to learn the more advanced techniques you've likely read or heard about.\n",
    "\n",
    "Let's get started!"
   ]
  },
  {
   "cell_type": "code",
   "execution_count": null,
   "metadata": {},
   "outputs": [],
   "source": []
  }
 ],
 "metadata": {
  "kernelspec": {
   "display_name": "Python 3",
   "language": "python",
   "name": "python3"
  },
  "language_info": {
   "codemirror_mode": {
    "name": "ipython",
    "version": 3
   },
   "file_extension": ".py",
   "mimetype": "text/x-python",
   "name": "python",
   "nbconvert_exporter": "python",
   "pygments_lexer": "ipython3",
   "version": "3.7.4"
  }
 },
 "nbformat": 4,
 "nbformat_minor": 2
}
