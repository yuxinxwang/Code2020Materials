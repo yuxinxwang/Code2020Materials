{
 "cells": [
  {
   "cell_type": "markdown",
   "metadata": {},
   "source": [
    "# Future Directions For Learning \n",
    "\n",
    "You now have a basic foot hold in the world of neural networks.\n",
    "\n",
    "Since this is the last day of the course I wanted to give you some directions to go in for those interested in learning more advanced neural networks."
   ]
  },
  {
   "cell_type": "markdown",
   "metadata": {},
   "source": [
    "## An Actual Textbook\n",
    "\n",
    "In preparing these materials I found this textbook quite useful, <a href=\"https://link.springer.com/content/pdf/10.1007/978-3-319-94463-0.pdf\">https://link.springer.com/content/pdf/10.1007/978-3-319-94463-0.pdf</a>. As a disclosure I've only read through Chapter 1, so don't @ me if there is a drop in quality after Chapter 1."
   ]
  },
  {
   "cell_type": "markdown",
   "metadata": {},
   "source": [
    "## Python Packages\n",
    "\n",
    "There is no shortage of python packages for implementing neural networks. The most popular I know of are the following.\n",
    "\n",
    "### `TensorFlow`\n",
    "\n",
    "<a href=\"https://www.tensorflow.org/\">https://www.tensorflow.org/</a>\n",
    "\n",
    "### `keras`\n",
    "\n",
    "<a href=\"https://keras.io/\">https://keras.io/</a>\n",
    "\n",
    "### `PyTorch`\n",
    "\n",
    "<a href=\"https://pytorch.org/\">https://pytorch.org/</a>"
   ]
  },
  {
   "cell_type": "markdown",
   "metadata": {},
   "source": [
    "## A Good Starter Book for Neural Nets in Python\n",
    "\n",
    "I generally find this book <a href=\"https://www.amazon.com/Hands-Machine-Learning-Scikit-Learn-TensorFlow-ebook/dp/B07XGF2G87/ref=sr_1_3?crid=2DUV54X8FNTOF&dchild=1&keywords=python+tensorflow+sklearn&qid=1590028549&sprefix=sklearn+and+tenso%2Caps%2C179&sr=8-3\">https://www.amazon.com/Hands-Machine-Learning-Scikit-Learn-TensorFlow-ebook/dp/B07XGF2G87/ref=sr_1_3?crid=2DUV54X8FNTOF&dchild=1&keywords=python+tensorflow+sklearn&qid=1590028549&sprefix=sklearn+and+tenso%2Caps%2C179&sr=8-3</a> to be the best reference I have for machine learning in python. It is probably the most worn book on my programming book shelf.\n",
    "\n",
    "In addition to the data science and machine learning techniques we've already covered in this course about a third of the book goes over how to implement a neural net using tensorflow."
   ]
  },
  {
   "cell_type": "markdown",
   "metadata": {},
   "source": [
    "## Additional Common/Popular Neural Network Architectures\n",
    "\n",
    "Some common ones I've heard thrown around quite often convolutional neural networks, recurrent neural networks, and generative adversarial networks.\n",
    "\n",
    "For a complete list of neural network architectures see the wikipedia entry here, <a href=\"https://en.wikipedia.org/wiki/Types_of_artificial_neural_networks\">https://en.wikipedia.org/wiki/Types_of_artificial_neural_networks</a>."
   ]
  },
  {
   "cell_type": "markdown",
   "metadata": {},
   "source": [
    "## How Can I Learn on My Own?\n",
    "\n",
    "Google and stack exchange forums typically have the answers to questions you may come accross while learning a new topic on your own. \n",
    "\n",
    "In my personal experience it is much easier to learn a new thing by having a project in mind that requires it, or by volunteering to teach a coding boot camp (okay that one might be specific to me). You also are now a part of a community of a large number of graduate students that you can draw upon to work on projects in the future!"
   ]
  },
  {
   "cell_type": "markdown",
   "metadata": {},
   "source": [
    "## Final Note\n",
    "\n",
    "Thanks for sticking it through to the end of the boot camp!\n",
    "\n",
    "You've really accomplished a lot in a short period of time. Best of luck in all of your future data endeavors!"
   ]
  },
  {
   "cell_type": "code",
   "execution_count": null,
   "metadata": {},
   "outputs": [],
   "source": []
  }
 ],
 "metadata": {
  "kernelspec": {
   "display_name": "Python 3",
   "language": "python",
   "name": "python3"
  },
  "language_info": {
   "codemirror_mode": {
    "name": "ipython",
    "version": 3
   },
   "file_extension": ".py",
   "mimetype": "text/x-python",
   "name": "python",
   "nbconvert_exporter": "python",
   "pygments_lexer": "ipython3",
   "version": "3.7.4"
  }
 },
 "nbformat": 4,
 "nbformat_minor": 2
}
