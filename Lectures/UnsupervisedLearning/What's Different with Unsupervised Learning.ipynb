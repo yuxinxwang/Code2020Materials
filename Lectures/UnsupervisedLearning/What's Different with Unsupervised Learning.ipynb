{
 "cells": [
  {
   "cell_type": "markdown",
   "metadata": {},
   "source": [
    "# What's Different with Unsupervised Learning\n",
    "\n",
    "Up to this point in the course we've been working with <i>supervised learning</i> techniques. \n",
    "\n",
    "## Supervised Learning\n",
    "\n",
    "We've never formally defined supervised learning, so let's do that now. Supervised learning is a subfield of machine learning concerned with training algorithms on data in which the target is known. The goal is to use that \"labeled\" data to produce algorithms that can reliably predict on future samples where you may not know the value of the target value.\n",
    "\n",
    "This is done for any number of reasons. For instance maybe you want to build an algorithmic trading method to make money in the stock market based on past stock performance, or perhaps you want to build a classification algorithm because the current method for detecting the target is too costly.\n",
    "\n",
    "## Unsupervised Learning\n",
    "\n",
    "<i>Unsupervised learning</i> is a subfield dedicated to algorithms that examine data without a label. The goal here is not to predict a target, but to examine the underlying structure of the data.\n",
    "\n",
    "That's not to say that unsupervised learning plays no role in predicting tagets. It is often the case that unsupervised learning techniques are used as a preprocessing step on the features prior to fitting a supervised learning model. You may remember this from the support vector machine notebook.\n",
    "\n",
    "In this section of the course we will review two flavors of unsupervised learning.\n",
    "\n",
    "## Clustering\n",
    "\n",
    "These techniques are concerned with locating natural groupings in unlabeled data. Some sample use cases include market segmentation, and identifying play styles in sports.\n",
    "\n",
    "We'll cover the following techniques:\n",
    "<ul>\n",
    "    <li>$k$-means clustering,</li>\n",
    "    <li>hierarchical clustering, and</li>\n",
    "    <li>DBScan.</li>\n",
    "</ul>\n",
    "\n",
    "## Dimension Reduction\n",
    "\n",
    "These techniques take in higher dimensional data and then output a lower dimension transformation of the data. This is extremely useful for improving supervised learning performance, alleviating computational burdens when fitting supervised learning techniques, removing noise from the data, and visualizing data to look for patterns.\n",
    "\n",
    "We'll cover the following techniques:\n",
    "<ul>\n",
    "    <li>principal components analysis,</li>\n",
    "    <li>manifold learning,</li>\n",
    "    <li>t-SNE.</li>\n",
    "</ul>\n",
    "\n",
    "Along the way we'll see some interesting real world examples and learn some additional machine learning procedures.\n",
    "\n",
    "As Mario would say, let's a go!"
   ]
  },
  {
   "cell_type": "code",
   "execution_count": null,
   "metadata": {},
   "outputs": [],
   "source": []
  }
 ],
 "metadata": {
  "kernelspec": {
   "display_name": "Python 3",
   "language": "python",
   "name": "python3"
  },
  "language_info": {
   "codemirror_mode": {
    "name": "ipython",
    "version": 3
   },
   "file_extension": ".py",
   "mimetype": "text/x-python",
   "name": "python",
   "nbconvert_exporter": "python",
   "pygments_lexer": "ipython3",
   "version": "3.7.4"
  }
 },
 "nbformat": 4,
 "nbformat_minor": 2
}
