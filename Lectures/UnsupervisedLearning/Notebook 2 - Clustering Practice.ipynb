{
 "cells": [
  {
   "cell_type": "markdown",
   "metadata": {},
   "source": [
    "# Clustering Practice\n",
    "\n",
    "In this notebook you'll use the techniques presented in Notebook 1 - Clustering to work through two clustering problems.\n",
    "\n",
    "In particular you'll work through two problems presented in the following resources:\n",
    "<ol>\n",
    "    <li><a href=\"https://www.amazon.com/Hands-Unsupervised-Learning-Using-Python-ebook/dp/B07NY447H8/ref=sr_1_1?crid=2ENKBD4O6EPNX&dchild=1&keywords=hands+on+unsupervised+learning&qid=1589566161&sprefix=hands+on+un%2Caps%2C170&sr=8-1\">Hands-On Unsupervised Learning Using Python</a>, Chapter 6, and</li>\n",
    "    <li><a href=\"https://www.amazon.com/Basketball-Data-Science-Applications-Chapman-ebook/dp/B083G6PQV2/ref=sr_1_1?crid=3D5B29MXA6E3C&dchild=1&keywords=basketball+data+science+with+applications+in+r&qid=1589566208&sprefix=basketball+data+scie%2Caps%2C172&sr=8-1\">Basketball Data Science With Applications in R</a></li>.\n",
    "</ol>\n",
    "\n",
    "## What You'll Accomplish\n",
    "\n",
    "In particular you'll work on:\n",
    "<ul>\n",
    "    <li>clustering loan applications to help identify good investments,</li>\n",
    "    <li>using clustering to identify basketball players that play similar styles.</li>\n",
    "</ul>"
   ]
  },
  {
   "cell_type": "code",
   "execution_count": null,
   "metadata": {},
   "outputs": [],
   "source": [
    "## For data handling\n",
    "import pandas as pd\n",
    "import numpy as np\n",
    "\n",
    "## For plotting\n",
    "import matplotlib.pyplot as plt\n",
    "import seaborn as sns\n",
    "\n",
    "## This sets the plot style\n",
    "## to have a grid on a white background\n",
    "sns.set_style(\"whitegrid\")"
   ]
  },
  {
   "cell_type": "markdown",
   "metadata": {},
   "source": [
    "## Lending Club Data\n",
    "\n",
    "Below we load in and do some preprocessing on publicly available data from <a href=\"https://www.lendingclub.com/\">Lending Club</a>, a US peer-to-peer lending company. At the time this data was collected borrowers could request a loan from $\\$1,000$ to $\\$40,000$. \n",
    "\n",
    "Each row of the data set represents a funded loan from the platform. The columns have information about the loan itself and the person that applied for the loan. \n",
    "\n",
    "A loan `grade` column is also included and generally implies that this loan was good from the lenders point of view.\n",
    "\n",
    "One type of problem you may want to solve is to build a model that classifies a loan's grade based on the other features in the data set.\n",
    "\n",
    "However, another interesting problem would be to cluster observations and look for patterns in the data. Not just for the purposes of identifying highly graded loans, but also for identifying non obvious lending patterns.\n",
    "\n",
    "### Cleaning Data\n",
    "\n",
    "I first walk through cleaning the data a little bit, then I leave it to you to explore."
   ]
  },
  {
   "cell_type": "code",
   "execution_count": null,
   "metadata": {},
   "outputs": [],
   "source": [
    "# This reads in the raw csv\n",
    "# from a github repo\n",
    "# don't worry that warning is supposed to happen\n",
    "lending = pd.read_csv(\"https://raw.githubusercontent.com/aapatel09/handson-unsupervised-learning/master/datasets/lending_club_data/LoanStats3a.csv\")\n",
    "\n",
    "print(\"The data has\", len(lending), \"observations.\")"
   ]
  },
  {
   "cell_type": "code",
   "execution_count": null,
   "metadata": {},
   "outputs": [],
   "source": [
    "# We drop a bunch of empty columns\n",
    "columns_to_keep = ['grade','sub_grade','loan_amnt','funded_amnt',\n",
    "                 'funded_amnt_inv','term', 'int_rate','installment', \n",
    "                 'annual_inc', 'dti','delinq_2yrs','open_acc','pub_rec','revol_bal',\n",
    "                 'revol_util','total_acc','out_prncp', \n",
    "                 'out_prncp_inv','total_pymnt','total_pymnt_inv', \n",
    "                 'total_rec_prncp','total_rec_int','total_rec_late_fee', \n",
    "                 'recoveries','collection_recovery_fee','last_pymnt_amnt']"
   ]
  },
  {
   "cell_type": "code",
   "execution_count": null,
   "metadata": {},
   "outputs": [],
   "source": [
    "# I now keep those columns\n",
    "lending = lending.loc[:,columns_to_keep]"
   ]
  },
  {
   "cell_type": "code",
   "execution_count": null,
   "metadata": {},
   "outputs": [],
   "source": [
    "# let's examine the first 5 rows\n",
    "lending.head()"
   ]
  },
  {
   "cell_type": "code",
   "execution_count": null,
   "metadata": {},
   "outputs": [],
   "source": [
    "# These three columns are strings but should be numbers\n",
    "lending[['term','int_rate','revol_util']]"
   ]
  },
  {
   "cell_type": "code",
   "execution_count": null,
   "metadata": {},
   "outputs": [],
   "source": [
    "lending.loc[lending.term.notna(),'term'] = lending['term'].dropna().apply(lambda x: int(x.strip().split(\" \")[0]))"
   ]
  },
  {
   "cell_type": "code",
   "execution_count": null,
   "metadata": {},
   "outputs": [],
   "source": [
    "lending.loc[lending.int_rate.notna(),'int_rate'] = lending['int_rate'].dropna().apply(lambda x: float(x.strip().split(\"%\")[0]))"
   ]
  },
  {
   "cell_type": "code",
   "execution_count": null,
   "metadata": {},
   "outputs": [],
   "source": [
    "lending.loc[lending.int_rate.notna(),'revol_util'] = lending['revol_util'].dropna().apply(lambda x: float(x.strip().split(\"%\")[0]))"
   ]
  },
  {
   "cell_type": "code",
   "execution_count": null,
   "metadata": {},
   "outputs": [],
   "source": [
    "# Much Better\n",
    "lending[['term','int_rate','revol_util']]"
   ]
  },
  {
   "cell_type": "code",
   "execution_count": null,
   "metadata": {},
   "outputs": [],
   "source": [
    "# let's impute those nan values with the median\n",
    "for c in columns_to_keep[2:]:\n",
    "    replace = lending[c].median()\n",
    "    \n",
    "    lending.loc[lending[c].isna(),c] = replace"
   ]
  },
  {
   "cell_type": "code",
   "execution_count": null,
   "metadata": {},
   "outputs": [],
   "source": [
    "lending"
   ]
  },
  {
   "cell_type": "markdown",
   "metadata": {},
   "source": [
    "### Ready to Go\n",
    "\n",
    "Now that the data is clean let's go ahead and apply clustering.\n",
    "\n",
    "Feel free to apply any of the clustering techniques we've used so far. You may want to compare the output to the `grade` and `sub_grade` columns.\n",
    "\n",
    "The goal here is to:\n",
    "<ol>\n",
    "    <li>get more familiar with the clustering techniques we learned in notebook 1, and</li>\n",
    "    <li>see if you can gain any insight about the lending data set.</li>\n",
    "</ol>\n",
    "\n",
    "Remember that you'll need to scale the data!"
   ]
  },
  {
   "cell_type": "code",
   "execution_count": null,
   "metadata": {},
   "outputs": [],
   "source": [
    "## Code here\n",
    "\n",
    "\n",
    "\n",
    "\n",
    "\n"
   ]
  },
  {
   "cell_type": "code",
   "execution_count": null,
   "metadata": {},
   "outputs": [],
   "source": [
    "## Code here\n",
    "\n",
    "\n",
    "\n",
    "\n",
    "\n"
   ]
  },
  {
   "cell_type": "code",
   "execution_count": null,
   "metadata": {},
   "outputs": [],
   "source": [
    "## Code here\n",
    "\n",
    "\n",
    "\n",
    "\n",
    "\n"
   ]
  },
  {
   "cell_type": "code",
   "execution_count": null,
   "metadata": {},
   "outputs": [],
   "source": [
    "## Code here\n",
    "\n",
    "\n",
    "\n",
    "\n",
    "\n"
   ]
  },
  {
   "cell_type": "code",
   "execution_count": null,
   "metadata": {},
   "outputs": [],
   "source": [
    "## Code here\n",
    "\n",
    "\n",
    "\n",
    "\n",
    "\n"
   ]
  },
  {
   "cell_type": "code",
   "execution_count": null,
   "metadata": {},
   "outputs": [],
   "source": [
    "## Code here\n",
    "\n",
    "\n",
    "\n",
    "\n",
    "\n"
   ]
  },
  {
   "cell_type": "markdown",
   "metadata": {},
   "source": [
    "## Shooters Gotta Shoot\n",
    "\n",
    "These clustering techniques are often applied in sports analytics.\n",
    "\n",
    "They can be helpful in finding commonalities between players and teams in a number of ways.\n",
    "\n",
    "In this problem you'll load in some shot distributions for NBA players from the 2018-19 NBA season.\n",
    "\n",
    "### The Data\n",
    "\n",
    "Each row of the data set will be a different player with their percentage of shots taken in different regions of the basketball court along with what percentage of those shots they made. \n",
    "\n",
    "Here is a basketball court cut into 15 regions,\n",
    "<img src=\"CourtZones.png\" style=\"width:50%;\"></img>\n",
    "\n",
    "Let's load in the data and look at it."
   ]
  },
  {
   "cell_type": "code",
   "execution_count": null,
   "metadata": {},
   "outputs": [],
   "source": [
    "nba = pd.read_csv(\"players_18_19.csv\")"
   ]
  },
  {
   "cell_type": "code",
   "execution_count": null,
   "metadata": {},
   "outputs": [],
   "source": [
    "nba.head()"
   ]
  },
  {
   "cell_type": "markdown",
   "metadata": {},
   "source": [
    "Explore this data set and perform clustering on either the whole data set or just selected columns. Are you able to identify different shooting styles?"
   ]
  },
  {
   "cell_type": "code",
   "execution_count": null,
   "metadata": {},
   "outputs": [],
   "source": [
    "## Code here\n",
    "\n",
    "\n",
    "\n",
    "\n",
    "\n"
   ]
  },
  {
   "cell_type": "code",
   "execution_count": null,
   "metadata": {},
   "outputs": [],
   "source": [
    "## Code here\n",
    "\n",
    "\n",
    "\n",
    "\n",
    "\n"
   ]
  },
  {
   "cell_type": "code",
   "execution_count": null,
   "metadata": {},
   "outputs": [],
   "source": [
    "## Code here\n",
    "\n",
    "\n",
    "\n",
    "\n",
    "\n"
   ]
  },
  {
   "cell_type": "code",
   "execution_count": null,
   "metadata": {},
   "outputs": [],
   "source": [
    "## Code here\n",
    "\n",
    "\n",
    "\n",
    "\n",
    "\n"
   ]
  },
  {
   "cell_type": "code",
   "execution_count": null,
   "metadata": {},
   "outputs": [],
   "source": [
    "## Code here\n",
    "\n",
    "\n",
    "\n",
    "\n",
    "\n"
   ]
  },
  {
   "cell_type": "code",
   "execution_count": null,
   "metadata": {},
   "outputs": [],
   "source": [
    "## Code here\n",
    "\n",
    "\n",
    "\n",
    "\n",
    "\n"
   ]
  },
  {
   "cell_type": "markdown",
   "metadata": {},
   "source": [
    "See you in notebook 3!"
   ]
  },
  {
   "cell_type": "code",
   "execution_count": null,
   "metadata": {},
   "outputs": [],
   "source": []
  }
 ],
 "metadata": {
  "kernelspec": {
   "display_name": "Python 3",
   "language": "python",
   "name": "python3"
  },
  "language_info": {
   "codemirror_mode": {
    "name": "ipython",
    "version": 3
   },
   "file_extension": ".py",
   "mimetype": "text/x-python",
   "name": "python",
   "nbconvert_exporter": "python",
   "pygments_lexer": "ipython3",
   "version": "3.7.4"
  }
 },
 "nbformat": 4,
 "nbformat_minor": 2
}
