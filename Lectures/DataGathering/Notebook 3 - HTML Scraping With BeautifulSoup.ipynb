{
 "cells": [
  {
   "cell_type": "markdown",
   "metadata": {},
   "source": [
    "## What You'll Accomplish in this Notebook\n",
    "\n",
    "Here's what you'll do in this notebook:\n",
    "<ul>\n",
    "    <li>learn about the structure of an html page</li>\n",
    "    <li>be introduced the the BeautifulSoup package</li>\n",
    "    <li>see how to parse html code with a toy example</li>\n",
    "    <li>scrape data on Seventh Son beers from some saved html code</li>\n",
    "    <li>download then scrape an actual webpage</li>\n",
    "</ul>"
   ]
  },
  {
   "cell_type": "code",
   "execution_count": null,
   "metadata": {},
   "outputs": [],
   "source": [
    "# Our common data handling package\n",
    "import pandas as pd"
   ]
  },
  {
   "cell_type": "markdown",
   "metadata": {},
   "source": [
    "# HTML Scraping With `BeautifulSoup`\n",
    "\n",
    "In this notebook we'll learn about how to scrape html files with <a href = \"https://www.crummy.com/software/BeautifulSoup/bs4/doc/\">BeautifulSoup</a>. Try running the below code."
   ]
  },
  {
   "cell_type": "code",
   "execution_count": null,
   "metadata": {},
   "outputs": [],
   "source": [
    "from bs4 import BeautifulSoup"
   ]
  },
  {
   "cell_type": "markdown",
   "metadata": {},
   "source": [
    "If that did not work take a moment to install the package.\n",
    "\n",
    "### Understanding the Structure of an HTML Page\n",
    "\n",
    "`BeautifulSoup` takes in an html document and will 'parse' it for you so that you can extract the information you want. To best understand what that means let's look at a toy example of a webpage. To see what the snippet of html code below looks like in a web browser click here <a href=\"SampleHTML.html\">SampleHTML.html</a>."
   ]
  },
  {
   "cell_type": "code",
   "execution_count": null,
   "metadata": {},
   "outputs": [],
   "source": [
    "# This is an html chunk\n",
    "# It has a head and a body, just like you\n",
    "html_doc = \"\"\"\n",
    "<html><head><title>The Dormouse's story</title></head>\n",
    "<body>\n",
    "<p class=\"title\"><b>The Dormouse's story</b></p>\n",
    "\n",
    "<p class=\"story\">Once upon a time there were three little sisters; and their names were\n",
    "<a href=\"http://example.com/elsie\" class=\"sister\" id=\"link1\">Elsie</a>,\n",
    "<a href=\"http://example.com/lacie\" class=\"sister\" id=\"link2\">Lacie</a> and\n",
    "<a href=\"http://example.com/tillie\" class=\"sister\" id=\"link3\">Tillie</a>;\n",
    "and they lived at the bottom of a well.</p>\n",
    "\n",
    "<p class=\"story\">...</p>\n",
    "\"\"\""
   ]
  },
  {
   "cell_type": "markdown",
   "metadata": {},
   "source": [
    "We can now use `BeautifulSoup` to parse this simple html chunk."
   ]
  },
  {
   "cell_type": "code",
   "execution_count": null,
   "metadata": {},
   "outputs": [],
   "source": [
    "# Now we make a BeautifulSoup object our of the html code\n",
    "# The first input is the html code\n",
    "# The second input is how you want BeautifulSoup\n",
    "# to parse the code\n",
    "soup = BeautifulSoup(html_doc,'html.parser')"
   ]
  },
  {
   "cell_type": "code",
   "execution_count": null,
   "metadata": {},
   "outputs": [],
   "source": [
    "# Let's use the prettify method to make our html pretty and see what it has to say\n",
    "# Ideally this is how someone writing pure html code would write their code\n",
    "print(soup.prettify())"
   ]
  },
  {
   "cell_type": "markdown",
   "metadata": {},
   "source": [
    "Html files have a natural tree structure that we'll briefly cover now. Here's the tree of our sample html:\n",
    "\n",
    "<img src = \"html_tree.png\" width = \"500\"></img>\n",
    "\n",
    "Each level in the tree represents a 'generation' of the html code. for instance the body has 3 p children, the leftmost p has one b child. `BeautifulSoup` helps us traverse these trees to gather the data we want.\n",
    "\n",
    "We'll now traverse this html sapling."
   ]
  },
  {
   "cell_type": "code",
   "execution_count": null,
   "metadata": {},
   "outputs": [],
   "source": [
    "# Below are some examples of beautifulsoup methods and \n",
    "# attributes that help us better understand the structure \n",
    "# of html code\n",
    "\n",
    "# What is the title of the page?\n",
    "print(soup.title)\n",
    "print()\n",
    "\n",
    "# Notice we can also get the title like so\n",
    "print(soup.head.title)\n",
    "print()\n",
    "\n",
    "# What if I just want the text from the title?\n",
    "print(soup.title.text)\n",
    "print()\n",
    "\n",
    "# What html structure is the title's parent?\n",
    "print(soup.title.parent.name)\n",
    "print(soup.title.parent)\n",
    "print()\n",
    "\n",
    "# What is the first a of the html document?\n",
    "print(soup.a)\n",
    "\n",
    "# What is the first a's class?\n",
    "print(soup.a['class'])\n",
    "print()\n",
    "\n",
    "# There are multiple a's can I find all of them?\n",
    "print(soup.find_all('a'))\n",
    "for a in soup.find_all('a'):\n",
    "    print()\n",
    "    print(a['class'], a.text)\n",
    "    "
   ]
  },
  {
   "cell_type": "markdown",
   "metadata": {},
   "source": [
    "#### Practice"
   ]
  },
  {
   "cell_type": "code",
   "execution_count": null,
   "metadata": {},
   "outputs": [],
   "source": [
    "# Now you practice!\n",
    "\n",
    "# Find the first p of the document\n",
    "# What is the first p's class? What string is in that p?\n",
    "\n",
    "\n",
    "\n",
    "\n",
    "\n"
   ]
  },
  {
   "cell_type": "code",
   "execution_count": null,
   "metadata": {},
   "outputs": [],
   "source": [
    "# For all of the a's in the document find their href\n",
    "\n",
    "\n",
    "\n",
    "\n",
    "\n",
    "\n",
    "\n"
   ]
  },
  {
   "cell_type": "markdown",
   "metadata": {},
   "source": [
    "Now we've got some experience let's move on to some slightly more advanced parsing.\n",
    "\n",
    "### Now We're of Drinking Age\n",
    "\n",
    "I've included in this repository some html code from an <a href = \"https://untappd.com/home\">Untappd</a> search. We can read in that file with the following code. I went to untappd, and found the <a href = \"https://www.seventhsonbrewing.com\">Seventh Son</a> page then clicked on their beer list and only saved the html code from the results. You can see the html file here <a href=\"SeventhSon.html\">SeventhSon.html</a>."
   ]
  },
  {
   "cell_type": "code",
   "execution_count": null,
   "metadata": {},
   "outputs": [],
   "source": [
    "# This will save the html file's code so we can parse it\n",
    "seventh_son_beer_search = open(\"SeventhSon.html\", 'r')"
   ]
  },
  {
   "cell_type": "code",
   "execution_count": null,
   "metadata": {},
   "outputs": [],
   "source": [
    "# You write code here to make a soup object of our code\n",
    "# Sample Answer\n",
    "soup = BeautifulSoup(seventh_son_beer_search,\"html.parser\")\n",
    "\n",
    "\n",
    "\n",
    "\n"
   ]
  },
  {
   "cell_type": "code",
   "execution_count": null,
   "metadata": {},
   "outputs": [],
   "source": [
    "# Look at the code using prettify\n",
    "# Sample Answer\n",
    "print(soup.prettify())\n",
    "\n"
   ]
  },
  {
   "cell_type": "markdown",
   "metadata": {},
   "source": [
    "As we can see from the `prettify()` output this html code is more complicated than our toy example from above, but `BeautifulSoup` is able to handle it all the same. Let's write some code to go through the html and grab the beer names and then store those names in a list.\n",
    "\n",
    "To do that let's learn a little more about BeautifulSoup's functionality. Looking at the prettify output we see that each beer is contained in a \"beer-item\". We can use that class information to our advantage."
   ]
  },
  {
   "cell_type": "code",
   "execution_count": null,
   "metadata": {},
   "outputs": [],
   "source": [
    "cooler = soup.find_all('div',{'class':\"beer-item\"})"
   ]
  },
  {
   "cell_type": "code",
   "execution_count": null,
   "metadata": {},
   "outputs": [],
   "source": [
    "beer0 = cooler[0]"
   ]
  },
  {
   "cell_type": "code",
   "execution_count": null,
   "metadata": {},
   "outputs": [],
   "source": [
    "beer0"
   ]
  },
  {
   "cell_type": "code",
   "execution_count": null,
   "metadata": {},
   "outputs": [],
   "source": [
    "# Now use what we just learned to extract the name from beer 0\n",
    "# The name is contained in a p element with class \"name\"\n",
    "print(beer0.find(\"p\",{'class':\"name\"}))\n",
    "\n",
    "\n",
    "\n",
    "\n"
   ]
  },
  {
   "cell_type": "code",
   "execution_count": null,
   "metadata": {},
   "outputs": [],
   "source": [
    "# Now make a list of all the beer names\n",
    "beers = [beer.find(\"p\",{'class':\"name\"}).text for beer in cooler]\n",
    "\n",
    "\n",
    "\n",
    "\n"
   ]
  },
  {
   "cell_type": "code",
   "execution_count": null,
   "metadata": {},
   "outputs": [],
   "source": [
    "beers"
   ]
  },
  {
   "cell_type": "markdown",
   "metadata": {},
   "source": [
    "#### Practice\n",
    "\n",
    "You've been hired by a competitor to SeventhSon. They want a dataframe of all of SeventhSon's beers that includes their name, beer type, abv, and ibu. Use BeautifulSoup to give them this."
   ]
  },
  {
   "cell_type": "code",
   "execution_count": null,
   "metadata": {},
   "outputs": [],
   "source": [
    "# Your work here\n",
    "\n",
    "\n",
    "\n",
    "\n",
    "\n",
    "\n",
    "\n",
    "\n"
   ]
  },
  {
   "cell_type": "code",
   "execution_count": null,
   "metadata": {},
   "outputs": [],
   "source": [
    "# How many of each type of beer?\n",
    "\n",
    "\n",
    "\n",
    "\n",
    "\n",
    "\n",
    "\n",
    "\n"
   ]
  },
  {
   "cell_type": "markdown",
   "metadata": {},
   "source": [
    "Great! We're finally getting familiar enough with BeautifulSoup to move on to an actual website.\n",
    "\n",
    "### Surfing the web\n",
    "\n",
    "Here's our hypothetical project. Your hired by someone that wants to start a FiveThirtyEight like website, but hates writing. Their goal is to create a natural language bot that uses an NLP algorithm to generate new 538 like articles using previous 538 articles. They're too busy working on the algorithm so they've outsourced the job of scraping the article content to us. \n",
    "\n",
    "Their desired output is a compilation of 538's articles. The data they need is each article's title, author, and text.\n",
    "\n",
    "Let's go through how to get the title, author, and text for one specific article."
   ]
  },
  {
   "cell_type": "code",
   "execution_count": null,
   "metadata": {},
   "outputs": [],
   "source": [
    "# This method allows us to get the html code from 538\n",
    "from urllib.request import urlopen"
   ]
  },
  {
   "cell_type": "code",
   "execution_count": null,
   "metadata": {},
   "outputs": [],
   "source": [
    "# Grab the html from the article\n",
    "html = urlopen(\"https://fivethirtyeight.com/features/giannis-antetokounmpo-is-creating-more-than-ever/\")"
   ]
  },
  {
   "cell_type": "code",
   "execution_count": null,
   "metadata": {},
   "outputs": [],
   "source": [
    "# Turn it into soup\n",
    "soup = BeautifulSoup(html,\"html.parser\")"
   ]
  },
  {
   "cell_type": "code",
   "execution_count": null,
   "metadata": {},
   "outputs": [],
   "source": [
    "print(soup.prettify())"
   ]
  },
  {
   "cell_type": "markdown",
   "metadata": {},
   "source": [
    "We can see that going through the code might be annoying. Let's learn about the web developer tools of your web browser.\n",
    "\n",
    "\n",
    "#### Your Turn\n",
    "\n",
    "Now that we've reviewed how we can use the developer tools you try to write the code that will grab the desired info."
   ]
  },
  {
   "cell_type": "code",
   "execution_count": null,
   "metadata": {},
   "outputs": [],
   "source": [
    "# Find the author here\n",
    "\n",
    "\n",
    "\n",
    "\n",
    "\n"
   ]
  },
  {
   "cell_type": "code",
   "execution_count": null,
   "metadata": {},
   "outputs": [],
   "source": [
    "# Find the title here\n",
    "\n",
    "\n",
    "\n",
    "\n",
    "\n"
   ]
  },
  {
   "cell_type": "code",
   "execution_count": null,
   "metadata": {},
   "outputs": [],
   "source": [
    "# Find the text of the article here\n",
    "\n",
    "\n",
    "\n",
    "\n",
    "\n"
   ]
  },
  {
   "cell_type": "markdown",
   "metadata": {},
   "source": [
    "Now you've got a good introduction to web sraping with `BeautifulSoup`. If you want to dive deeper check out the documentation here, <a href = \"https://www.crummy.com/software/BeautifulSoup/bs4/doc/\">https://www.crummy.com/software/BeautifulSoup/bs4/doc/</a>, or you can try searching the web for what you'd like to do."
   ]
  },
  {
   "cell_type": "code",
   "execution_count": null,
   "metadata": {},
   "outputs": [],
   "source": []
  }
 ],
 "metadata": {
  "kernelspec": {
   "display_name": "Python 3",
   "language": "python",
   "name": "python3"
  },
  "language_info": {
   "codemirror_mode": {
    "name": "ipython",
    "version": 3
   },
   "file_extension": ".py",
   "mimetype": "text/x-python",
   "name": "python",
   "nbconvert_exporter": "python",
   "pygments_lexer": "ipython3",
   "version": "3.7.3"
  }
 },
 "nbformat": 4,
 "nbformat_minor": 2
}
