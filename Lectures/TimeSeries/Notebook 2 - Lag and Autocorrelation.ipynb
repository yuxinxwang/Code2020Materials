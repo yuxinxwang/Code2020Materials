{
 "cells": [
  {
   "cell_type": "markdown",
   "metadata": {},
   "source": [
    "# Lag and Autocorrelation\n",
    "\n",
    "Now that you have some familiarity with time series data, we'll dive a little deeper into the theory. We present the concepts of <i>lag</i> and <i>autocorrelation</i> before talking about more advanced forecasting algorithms.\n",
    "\n",
    "## What You Will Accomplish in This Notebook\n",
    "\n",
    "In particular you will:\n",
    "<ul>\n",
    "    <li>Be introduced to the concept of lag,</li>\n",
    "    <li>See how lag plots can help us identify seasonality,</li>\n",
    "    <li>Learn what autocorrelation is,</li>\n",
    "    <li>Make autocorrelation plots also known as correlograms.</li>\n",
    "</ul>\n",
    "\n",
    "Let's start by importing our usual packages."
   ]
  },
  {
   "cell_type": "code",
   "execution_count": null,
   "metadata": {},
   "outputs": [],
   "source": [
    "# import the packages we'll use\n",
    "from datetime import datetime\n",
    "\n",
    "## For data handling\n",
    "import pandas as pd\n",
    "import numpy as np\n",
    "\n",
    "## For plotting\n",
    "import matplotlib.pyplot as plt\n",
    "import seaborn as sns\n",
    "\n",
    "## This sets the plot style\n",
    "## to have a grid on a white background\n",
    "sns.set_style(\"whitegrid\")"
   ]
  },
  {
   "cell_type": "markdown",
   "metadata": {},
   "source": [
    "As with regression let's say we're interested in a target, $y$, and that the value of the target at time $t$ is denoted $y_t$.\n",
    "\n",
    "## He's Lagging!\n",
    "\n",
    "Anyone that's played video games online has heard the term <i>lag</i> before. In gaming it refers to delay in what occurs on your screen versus when it actually occured. \n",
    "\n",
    "In time series data it references essentially the same thing. A lag of $0$ means that for time $t$ we're looking at $y_t$. A lag of $k$ means that for time $t$ we're looking at $y_{t-k}$.\n",
    "\n",
    "### Lag Plots\n",
    "\n",
    "One way to use lag to learn about the time series data is to look at what are called <i>lag plots</i>. In these plots for lag $k$ we plot $y_t$ vs $y_{t-k}$. You typically make a series of these plots for different lags to try and identify any patterns related to the temporal nature of the data.\n",
    "\n",
    "Let's see an example using quarterly australian beer production data from 1992 Q1 to 2010 Q2."
   ]
  },
  {
   "cell_type": "code",
   "execution_count": null,
   "metadata": {},
   "outputs": [],
   "source": [
    "# read in ausbeer\n",
    "# adding in parse_dates, saves us a line of coding\n",
    "ausbeer = pd.read_csv(\"ausbeer.csv\")\n",
    "\n",
    "plt.plot(ausbeer)\n",
    "\n",
    "plt.show()"
   ]
  },
  {
   "cell_type": "code",
   "execution_count": null,
   "metadata": {},
   "outputs": [],
   "source": [
    "ausbeer_train = ausbeer.iloc[:-15,].copy()\n",
    "ausbeer_test = ausbeer.drop(ausbeer_train.index).copy()"
   ]
  },
  {
   "cell_type": "code",
   "execution_count": null,
   "metadata": {},
   "outputs": [],
   "source": [
    "# This function makes a lag_df \n",
    "# for easy plotting\n",
    "def make_lag_df(df,feature,lag):\n",
    "    lag_df = df.copy()\n",
    "    lag_df[feature + '_lag'] = np.nan\n",
    "    \n",
    "    lag_df.loc[lag:,feature + '_lag'] = lag_df.loc[0:len(lag_df)-(lag+1),feature].values\n",
    "    return lag_df"
   ]
  },
  {
   "cell_type": "code",
   "execution_count": null,
   "metadata": {},
   "outputs": [],
   "source": [
    "# A function to make our plotting easier\n",
    "def plot_lag(df,feature,lag,ax=None):\n",
    "    df = make_lag_df(df,feature,lag).dropna()\n",
    "    if ax:\n",
    "        ax.scatter(df[feature+'_lag'],df[feature])\n",
    "\n",
    "        ax.plot(np.linspace(350,550,10),\n",
    "                np.linspace(350,550,10),\n",
    "               'k--', alpha = .6)\n",
    "\n",
    "        ax.set_title(\"lag = \" + str(lag),fontsize=12)\n",
    "    else:\n",
    "        plt.scatter(df[feature+'_lag'],df[feature])\n",
    "\n",
    "        plt.plot(np.linspace(350,550,10),\n",
    "                np.linspace(350,550,10),\n",
    "               'k--', alpha = .6)\n",
    "\n",
    "        plt.show()"
   ]
  },
  {
   "cell_type": "code",
   "execution_count": null,
   "metadata": {},
   "outputs": [],
   "source": [
    "# we'll make lag plot for lag = 1 to 9\n",
    "\n",
    "fig,ax = plt.subplots(3,3,\n",
    "                      figsize = (12,12))\n",
    "\n",
    "for i in range(1,10):\n",
    "    plot_lag(ausbeer_train,'production',i,ax[(i-1)//3, (i-1)%3])\n",
    "\n",
    "    \n",
    "fig.text(0.5, 0.04, '$y_{t-k}$', ha='center',fontsize=18)\n",
    "fig.text(0.04, 0.5, '$y_t$', va='center', rotation='vertical',fontsize=18)\n",
    "\n",
    "plt.show()"
   ]
  },
  {
   "cell_type": "markdown",
   "metadata": {},
   "source": [
    "Looking at these sorts of plots can allow us to identify patterns like seasonality. For example, we see that at lags $4$ and $8$ the points seem to surround the dotted line. This line is $y_t = y_{t-k}$. This means that every $4$ or $8$ time steps the values are quite similar. This suggests seasonality in the data with a frequency of $4$ time steps. Since the timesteps are in quarters, our beer data seemingly has a frequency of $1$ business year.\n",
    "\n",
    "## Questions\n",
    "\n",
    "<br>\n",
    "<br>\n",
    "<br>\n",
    "<br>\n",
    "\n",
    "## End Questions\n",
    "\n",
    "## Autocorrelation\n",
    "\n",
    "Remember back during regression we defined Pearson's correlation, $\\rho$, to measure the strength of the linear relationship between $X$ and $y$.\n",
    "\n",
    "We can do the same thing with time series data, except this time it is called autocorrelation. We can measure the strength of the linear relationship between $y_t$ and $y_{t-k}$ with the following formula:\n",
    "$$\n",
    "r_k = \\frac{\\sum_{t = k+1}^T \\left( y_t - \\overline{y}  \\right)  \\left( y_{t-k} - \\overline{y}  \\right)}{\\sum_{t=1}^T \\left( y_t - \\overline{y}  \\right)^2},\n",
    "$$\n",
    "where $T$ is the length of the time series, and $\\overline{y} = \\frac{1}{T} \\sum_{t=1}^T y_t$.\n",
    "\n",
    "We can calculate these for the australian beer production data like so."
   ]
  },
  {
   "cell_type": "code",
   "execution_count": null,
   "metadata": {},
   "outputs": [],
   "source": [
    "def get_autocorr(df,feature,lag):\n",
    "    df = make_lag_df(df,feature,lag)\n",
    "    mean_y = df[feature].mean()\n",
    "    \n",
    "    \n",
    "    \n",
    "    y_ts = df[feature].values\n",
    "    y_lags = df.dropna()[feature + '_lag'].values\n",
    "    \n",
    "    numerator = np.sum((y_ts[lag:] - mean_y)*(y_lags - mean_y))\n",
    "    denom = np.sum(np.power(y_ts - mean_y,2))\n",
    "    \n",
    "    return numerator/denom"
   ]
  },
  {
   "cell_type": "code",
   "execution_count": null,
   "metadata": {},
   "outputs": [],
   "source": [
    "# for lag = 1 to 9\n",
    "lags = np.arange(1,9,1)\n",
    "\n",
    "print(lags)\n",
    "print([get_autocorr(ausbeer_train,'production',lag) for lag in lags])"
   ]
  },
  {
   "cell_type": "markdown",
   "metadata": {},
   "source": [
    "### Autocorrelation Plots or Correlograms\n",
    "\n",
    "Reading tables can be make it hard to understand the pattern, so an alternative approach is to plot the autocorrlations, this is known as a <i>correlogram</i>."
   ]
  },
  {
   "cell_type": "code",
   "execution_count": null,
   "metadata": {},
   "outputs": [],
   "source": [
    "# make a figure\n",
    "plt.figure(figsize=(10,6))\n",
    "\n",
    "plt.ylim(-1,1)\n",
    "\n",
    "\n",
    "plt.axhline(y=0, xmin=0, xmax=20, color = \"blue\")\n",
    "plt.scatter(np.arange(1,20,1), \n",
    "           [get_autocorr(ausbeer_train,'production',lag) for lag in np.arange(1,20,1)],\n",
    "           c='b')\n",
    "\n",
    "for i in np.arange(1,20,1):\n",
    "    plt.plot(i*np.ones(2),[0,get_autocorr(ausbeer_train,'production',i)],'b')\n",
    "\n",
    "plt.xlabel(\"Lag\", fontsize=16)\n",
    "plt.ylabel(\"ACF\", fontsize=16)\n",
    "\n",
    "plt.xticks(np.arange(1,20,1), fontsize=12)\n",
    "plt.yticks(fontsize=12)\n",
    "\n",
    "plt.show()"
   ]
  },
  {
   "cell_type": "markdown",
   "metadata": {},
   "source": [
    "On the plot `ACF` refers to the autocorrelation function.\n",
    "\n",
    "For the australian beer data we see strong positive autocorrelation every 4 units, this is evidence of the seasonality having a frequency of $4$ quarters. \n",
    "\n",
    "The negative autocorrelation at lags $2$ $6$ $10$ $14$ and $18$ are also evidence of seasonality, the negative autocorrelation just shows how shifting the data by $2$ puts the $y_t$ data and the $y_{t-2}$ data in <i>antiphase</i>. This is best defined with an image."
   ]
  },
  {
   "cell_type": "code",
   "execution_count": null,
   "metadata": {},
   "outputs": [],
   "source": [
    "plt.figure(figsize=(8,6))\n",
    "\n",
    "plt.plot(np.linspace(0,4*np.pi,100),\n",
    "            np.cos(np.linspace(0,4*np.pi,100)),\n",
    "            'r', label=\"$\\cos$\")\n",
    "\n",
    "plt.plot(np.linspace(0,4*np.pi,100),\n",
    "            np.cos(np.pi + np.linspace(0,4*np.pi,100)),\n",
    "            'b', label=\"$\\cos$ shifted by $\\pi$\")\n",
    "\n",
    "plt.xlabel(\"$t$\",fontsize=16)\n",
    "plt.ylabel(\"$y_t$\",fontsize=16)\n",
    "\n",
    "\n",
    "plt.legend(fontsize=12)\n",
    "plt.show()"
   ]
  },
  {
   "cell_type": "markdown",
   "metadata": {},
   "source": [
    "AFC plots can also help us identify when the time series is trending upwards or downwards as you see in the next breakout session.\n",
    "\n",
    "## Practice\n",
    "\n",
    "Try to identify patterns in the measles time series data through lag plots and the autocorrelation function.\n",
    "\n",
    "Only use data prior to 1963 and use the years prior to 1959 as the training data."
   ]
  },
  {
   "cell_type": "code",
   "execution_count": null,
   "metadata": {},
   "outputs": [],
   "source": [
    "## Code here\n",
    "measles = pd.read_csv(\"measles.csv\", parse_dates = ['month'])\n",
    "\n",
    "measles_copy = measles.loc[measles.month < datetime(1963,1,1),].copy()\n",
    "measles_train = measles_copy.loc[measles.month < datetime(1959,1,1),]\n",
    "measles_test = measles_copy.drop(measles_train.index)"
   ]
  },
  {
   "cell_type": "code",
   "execution_count": null,
   "metadata": {},
   "outputs": [],
   "source": [
    "## Code here\n",
    "\n",
    "\n",
    "\n",
    "\n",
    "\n"
   ]
  },
  {
   "cell_type": "code",
   "execution_count": null,
   "metadata": {},
   "outputs": [],
   "source": [
    "## Code here\n",
    "\n",
    "max_lag = 72\n",
    "\n"
   ]
  },
  {
   "cell_type": "markdown",
   "metadata": {},
   "source": [
    "What did you observe? Did you find any seasonality or increasing/decreasing trend? How does it compare to what you see when you plot the time series?\n",
    "\n",
    "\n",
    "\n",
    "\n",
    "\n",
    "\n",
    "\n"
   ]
  },
  {
   "cell_type": "markdown",
   "metadata": {},
   "source": [
    "## Practice Cont. - An Example with Trend\n",
    "\n",
    "Read in the following data on Australian electricity production from 1980 to 1995. Don't worry about the training test split here."
   ]
  },
  {
   "cell_type": "code",
   "execution_count": null,
   "metadata": {},
   "outputs": [],
   "source": [
    "elec = pd.read_csv(\"elec.csv\", parse_dates=['month'])"
   ]
  },
  {
   "cell_type": "code",
   "execution_count": null,
   "metadata": {},
   "outputs": [],
   "source": [
    "elec.plot(x=\"month\",y=\"production\", figsize=(8,6))\n",
    "\n",
    "plt.show()"
   ]
  },
  {
   "cell_type": "code",
   "execution_count": null,
   "metadata": {},
   "outputs": [],
   "source": [
    "# Code here\n",
    "\n",
    "\n",
    "\n",
    "\n",
    "\n",
    "\n",
    "\n",
    "\n",
    "\n"
   ]
  },
  {
   "cell_type": "markdown",
   "metadata": {},
   "source": [
    "Make an ACF plot for these data, make your lag go out to $100$."
   ]
  },
  {
   "cell_type": "code",
   "execution_count": null,
   "metadata": {},
   "outputs": [],
   "source": [
    "## Code here\n",
    "\n",
    "\n",
    "\n",
    "\n",
    "\n",
    "\n",
    "\n",
    "\n"
   ]
  },
  {
   "cell_type": "markdown",
   "metadata": {},
   "source": [
    "We know from the above plot that there is a clear increasing trend. In this sort of scenario we expect to see our ACF plot be large and then slowly decreases.\n",
    "\n",
    "Next run this block of code that flips the order of our data."
   ]
  },
  {
   "cell_type": "code",
   "execution_count": null,
   "metadata": {},
   "outputs": [],
   "source": [
    "flipped = elec.copy()"
   ]
  },
  {
   "cell_type": "code",
   "execution_count": null,
   "metadata": {},
   "outputs": [],
   "source": [
    "flipped['production'] = elec.sort_values('month',ascending=False).production.values"
   ]
  },
  {
   "cell_type": "code",
   "execution_count": null,
   "metadata": {},
   "outputs": [],
   "source": [
    "flipped.plot(x=\"month\",y=\"production\")\n",
    "\n",
    "plt.show()"
   ]
  },
  {
   "cell_type": "markdown",
   "metadata": {},
   "source": [
    "Make an ACF plot for the flipped data. What do you expect to happen? What actually happened?"
   ]
  },
  {
   "cell_type": "code",
   "execution_count": null,
   "metadata": {},
   "outputs": [],
   "source": [
    "# Code Here\n",
    "\n",
    "\n",
    "\n",
    "\n",
    "\n",
    "\n",
    "\n",
    "\n"
   ]
  },
  {
   "cell_type": "code",
   "execution_count": null,
   "metadata": {},
   "outputs": [],
   "source": [
    "## Code here\n",
    "\n",
    "\n",
    "\n",
    "\n",
    "\n",
    "\n",
    "\n",
    "\n",
    "\n"
   ]
  },
  {
   "cell_type": "code",
   "execution_count": null,
   "metadata": {},
   "outputs": [],
   "source": [
    "## Code here\n",
    "\n",
    "\n",
    "\n",
    "\n",
    "\n"
   ]
  },
  {
   "cell_type": "code",
   "execution_count": null,
   "metadata": {},
   "outputs": [],
   "source": [
    "## Code here\n",
    "\n",
    "\n",
    "\n",
    "\n",
    "\n",
    "\n",
    "\n"
   ]
  },
  {
   "cell_type": "code",
   "execution_count": null,
   "metadata": {},
   "outputs": [],
   "source": [
    "## Code here\n",
    "\n",
    "\n",
    "\n",
    "\n",
    "\n",
    "\n",
    "\n"
   ]
  },
  {
   "cell_type": "markdown",
   "metadata": {},
   "source": [
    "That's the end of this notebook. We'll continue learning about how you can look at test errors and cross validation for time series data in the next notebook!"
   ]
  },
  {
   "cell_type": "markdown",
   "metadata": {},
   "source": [
    "### References\n",
    "\n",
    "Chapters 2 and 3 of <a href=\"https://otexts.com/fpp2/\">Forecasting: Principles and Practice</a>, by Rob J Hyndman and George Athanasopoulos."
   ]
  },
  {
   "cell_type": "code",
   "execution_count": null,
   "metadata": {},
   "outputs": [],
   "source": []
  }
 ],
 "metadata": {
  "kernelspec": {
   "display_name": "Python 3",
   "language": "python",
   "name": "python3"
  },
  "language_info": {
   "codemirror_mode": {
    "name": "ipython",
    "version": 3
   },
   "file_extension": ".py",
   "mimetype": "text/x-python",
   "name": "python",
   "nbconvert_exporter": "python",
   "pygments_lexer": "ipython3",
   "version": "3.7.4"
  }
 },
 "nbformat": 4,
 "nbformat_minor": 2
}
