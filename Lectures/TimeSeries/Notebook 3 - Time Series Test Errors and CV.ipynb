{
 "cells": [
  {
   "cell_type": "markdown",
   "metadata": {},
   "source": [
    "# Time Series Test Errors and Cross-Validation\n",
    "\n",
    "<q>Prediction is very difficult, especially if it's about the future.</q>\n",
    "\n",
    "--Nils Bohr, Nobel laureate in Physics \n",
    "\n",
    "This quote reiterates what we've said about making predictions in the regression material. We can make a model that is very good at fitting the data we have but there is no guarantee that model does well on unseen data (the future in time series).\n",
    "\n",
    "Thus, before introducing more time series forecasting models we'll quickly review how we can adjust the way we compute test errors and perform cross validation. These techniques allow us to attempt to find a model that predicts well.\n",
    "\n",
    "## What You'll Accomplish\n",
    "\n",
    "In particular you'll:\n",
    "<ul>\n",
    "    <li>Compute test errors for the average and na&iuml;ve methods on the marathon data,</li>\n",
    "    <li>Learn about the differences for cross-validation,</li>\n",
    "    <li>Perform cross-validation on the measles data to compute the best method among the average, na&iuml;ve and, seasonal na&iuml;ve methods</li>\n",
    "</ul>\n",
    "\n",
    "Let's import the packages we'll need"
   ]
  },
  {
   "cell_type": "code",
   "execution_count": 2,
   "metadata": {},
   "outputs": [],
   "source": [
    "# import the packages we'll use\n",
    "from datetime import datetime\n",
    "\n",
    "## For data handling\n",
    "import pandas as pd\n",
    "import numpy as np\n",
    "\n",
    "## For plotting\n",
    "import matplotlib.pyplot as plt\n",
    "import seaborn as sns\n",
    "\n",
    "## This sets the plot style\n",
    "## to have a grid on a white background\n",
    "sns.set_style(\"whitegrid\")"
   ]
  },
  {
   "cell_type": "markdown",
   "metadata": {},
   "source": [
    "## Test Errors\n",
    "\n",
    "Although we are working with time series data, the error measures we use will still be MSE and RMSE. \n",
    "\n",
    "In this setting we can refer to the test error as the forecast errors.\n",
    "\n",
    "Let $T$ be the length of the entire time series, $T_{\\text{train}}$ be the length of the training set, let $y_t$ be the target value observed at time $t$, and assume you have some algorithm that produces a prediction, $\\hat{y}_t$ at time $t$.\n",
    "\n",
    "Then the testing MSE is given by:\n",
    "$$\n",
    "MSE = \\frac{1}{T - T_{\\text{train}}} \\sum_{t = T_{\\text{train}} + 1}^T \\left( y_t - \\hat{y}_t \\right)^2,\n",
    "$$\n",
    "\n",
    "and $RMSE = \\sqrt{MSE}$.\n",
    "\n",
    "### Horizons\n",
    "\n",
    "The <i>horizon</i> of your model is how far out you'd like to predict. For example:\n",
    "<ul>\n",
    "    <li>A model that predicts next quarter's earnings has a horizon of $1$ quarter,</li>\n",
    "    <li>Predicting monthly cases of influenza in 2021 would be a model with a horizon of $1$ year or $12$ months,</li>\n",
    "    <li>A model predicting daily mileage in July 2020 would have a horizon of $1$ month or $31$ days.</li>\n",
    "</ul>\n",
    "\n",
    "Your desired forecasting horizon (how far out into the future you'd like to predict) should determine how large your test set is.\n",
    "\n",
    "## Practice\n",
    "\n",
    "Return to the `marathon` data. We'd like to see if we could predict out the winning times over the next $5$ years.\n",
    "\n",
    "Using both the average method and the na&iuml;ve methods compute the test RMSE. Which method performs better on this data?"
   ]
  },
  {
   "cell_type": "code",
   "execution_count": 3,
   "metadata": {},
   "outputs": [],
   "source": [
    "marathon = pd.read_csv(\"marathon.csv\", parse_dates = ['year'])"
   ]
  },
  {
   "cell_type": "code",
   "execution_count": null,
   "metadata": {},
   "outputs": [],
   "source": [
    "## Make the train test split here.\n",
    "\n",
    "\n",
    "\n",
    "\n"
   ]
  },
  {
   "cell_type": "code",
   "execution_count": null,
   "metadata": {},
   "outputs": [],
   "source": [
    "## Calculate the Average Method RMSE here\n",
    "\n",
    "\n",
    "\n",
    "\n"
   ]
  },
  {
   "cell_type": "code",
   "execution_count": null,
   "metadata": {},
   "outputs": [],
   "source": [
    "## Calculate the Naive Method RMSE here\n",
    "\n",
    "\n",
    "\n",
    "\n"
   ]
  },
  {
   "cell_type": "markdown",
   "metadata": {},
   "source": [
    "## Cross-Validation with Time Series\n",
    "\n",
    "Just like we can't randomly sample for the train test split, we also can't randomly sample for cross-validation.\n",
    "\n",
    "Let's explain what you can do with a figure.\n",
    "\n",
    "<img src=\"TimeSeriesCV.png\" style=\"width:80%\"></img>\n",
    "\n",
    "Just like we've done up to this point you make a train test split. In the image the training data is blue and the test data is red. In this example our horizon is $4$ time units.\n",
    "\n",
    "Now using the training data we have made three CV splits. We treat each split like a new data set. In the first one we use the first $4$ time points to predict on the second $4$. Then we use the first eight points to predict on the next $4$. Our final split uses the first $12$ points to predict on the last $4$.\n",
    "\n",
    "Just like with regression we'd calculate MSE or RMSE on each CV split and find the arithmetic mean across all splits.\n",
    "\n",
    "If you have a set horizon in mind your cv splits should reflect that horizon. For example, if you use cv to see how well your model predicts $1$ time step forward, but then you actually use that model to predict out $4$ time steps forward you shouldn't be shocked if your predictions don't go too well.\n",
    "\n",
    "### Practice\n",
    "\n",
    "Again return to the pre-1963 measles data. Using cross-validation calculate the average RMSE for the average,  na&iuml;ve, and seasonal na&iuml;ve methods. Use a $24$ month horizon. Which model do we expect to perform best?"
   ]
  },
  {
   "cell_type": "code",
   "execution_count": null,
   "metadata": {},
   "outputs": [],
   "source": [
    "measles = pd.read_csv(\"measles.csv\", parse_dates=['month'])\n",
    "measles_pre1963 = measles.loc[measles.month < datetime(1963,1,1),]"
   ]
  },
  {
   "cell_type": "code",
   "execution_count": null,
   "metadata": {},
   "outputs": [],
   "source": [
    "## Make the train test split here\n",
    "\n",
    "\n",
    "\n",
    "\n",
    "\n"
   ]
  },
  {
   "cell_type": "code",
   "execution_count": null,
   "metadata": {},
   "outputs": [],
   "source": [
    "## Make CV splits here\n",
    "\n",
    "\n",
    "\n",
    "\n",
    "\n"
   ]
  },
  {
   "cell_type": "code",
   "execution_count": null,
   "metadata": {},
   "outputs": [],
   "source": [
    "## Make any functions you want to calculate\n",
    "## average rmse here\n",
    "\n",
    "\n",
    "\n",
    "\n",
    "\n",
    "\n",
    "\n"
   ]
  },
  {
   "cell_type": "code",
   "execution_count": null,
   "metadata": {},
   "outputs": [],
   "source": [
    "## RMSE for Average Method Here \n",
    "\n",
    "\n",
    "\n",
    "\n",
    "\n",
    "\n"
   ]
  },
  {
   "cell_type": "code",
   "execution_count": null,
   "metadata": {},
   "outputs": [],
   "source": [
    "## RMSE for the Naive Method here\n",
    "\n",
    "\n",
    "\n",
    "\n",
    "\n",
    "\n"
   ]
  },
  {
   "cell_type": "code",
   "execution_count": null,
   "metadata": {},
   "outputs": [],
   "source": [
    "## RMSE for the Seasonal Naive method here\n",
    "\n",
    "\n",
    "\n",
    "\n",
    "\n",
    "\n"
   ]
  },
  {
   "cell_type": "code",
   "execution_count": null,
   "metadata": {},
   "outputs": [],
   "source": [
    "## Compare here\n",
    "\n",
    "\n",
    "\n",
    "\n",
    "\n",
    "\n"
   ]
  },
  {
   "cell_type": "markdown",
   "metadata": {},
   "source": [
    "That's it for this notebook!\n",
    "\n",
    "Next we'll see one of the two more advanced forecasting techniques touched on in the Time Series notebooks."
   ]
  },
  {
   "cell_type": "markdown",
   "metadata": {},
   "source": [
    "### References\n",
    "\n",
    "Section 3.4 of <a href=\"https://otexts.com/fpp2/\">Forecasting: Principles and Practice</a>, by Rob J Hyndman and George Athanasopoulos."
   ]
  },
  {
   "cell_type": "code",
   "execution_count": null,
   "metadata": {},
   "outputs": [],
   "source": []
  }
 ],
 "metadata": {
  "kernelspec": {
   "display_name": "Python 3",
   "language": "python",
   "name": "python3"
  },
  "language_info": {
   "codemirror_mode": {
    "name": "ipython",
    "version": 3
   },
   "file_extension": ".py",
   "mimetype": "text/x-python",
   "name": "python",
   "nbconvert_exporter": "python",
   "pygments_lexer": "ipython3",
   "version": "3.7.4"
  }
 },
 "nbformat": 4,
 "nbformat_minor": 2
}
