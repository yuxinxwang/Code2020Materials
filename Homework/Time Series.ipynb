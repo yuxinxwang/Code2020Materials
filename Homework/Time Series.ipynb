{
 "cells": [
  {
   "cell_type": "markdown",
   "metadata": {},
   "source": [
    "# Time Series\n",
    "\n",
    "In this notebook we'll both introduce new time series techniques and practice ones we learned in class."
   ]
  },
  {
   "cell_type": "code",
   "execution_count": null,
   "metadata": {},
   "outputs": [],
   "source": [
    "# import the packages we'll use\n",
    "## For data handling\n",
    "import pandas as pd\n",
    "import numpy as np\n",
    "from numpy import meshgrid\n",
    "\n",
    "## For plotting\n",
    "import matplotlib.pyplot as plt\n",
    "import seaborn as sns\n",
    "\n",
    "## This sets the plot style\n",
    "## to have a grid on a white background\n",
    "sns.set_style(\"whitegrid\")"
   ]
  },
  {
   "cell_type": "markdown",
   "metadata": {},
   "source": [
    "### Handling Datetimes\n",
    "\n",
    "Write a function that takes in someone's birthday and calculates their age. This may be trickier than you think, remember leap years exist. Also feel free to ignore timezones, you may assume everyone is in the same timezone."
   ]
  },
  {
   "cell_type": "code",
   "execution_count": null,
   "metadata": {},
   "outputs": [],
   "source": [
    "## Code here\n",
    "\n",
    "\n",
    "\n",
    "\n",
    "\n",
    "\n",
    "\n",
    "\n",
    "\n",
    "\n"
   ]
  },
  {
   "cell_type": "code",
   "execution_count": null,
   "metadata": {},
   "outputs": [],
   "source": [
    "## Code here\n",
    "\n",
    "\n",
    "\n",
    "\n",
    "\n",
    "\n",
    "\n",
    "\n",
    "\n",
    "\n"
   ]
  },
  {
   "cell_type": "code",
   "execution_count": null,
   "metadata": {},
   "outputs": [],
   "source": [
    "## Code here\n",
    "\n",
    "\n",
    "\n",
    "\n",
    "\n",
    "\n",
    "\n",
    "\n",
    "\n",
    "\n"
   ]
  },
  {
   "cell_type": "markdown",
   "metadata": {},
   "source": [
    "### Polar Plots\n",
    "\n",
    "A type of plot that may help identify seasonality in your data is a <i>polar plot</i>. For example, from <a href=\"https://otexts.com/fpp2/seasonal-plots.html\">Forecasting: Principles and Practice</a>\n",
    "<img src=\"PolarPlot.png\" style=\"width:60%\"></img>\n",
    "\n",
    "Read through the `matplotlib` documentation, <a href=\"https://matplotlib.org/3.1.1/api/_as_gen/matplotlib.pyplot.polar.html\">https://matplotlib.org/3.1.1/api/_as_gen/matplotlib.pyplot.polar.html</a>, <a href=\"https://matplotlib.org/3.2.1/gallery/pie_and_polar_charts/polar_scatter.html\">https://matplotlib.org/3.2.1/gallery/pie_and_polar_charts/polar_scatter.html</a>. And use Google to find out how to make one for any of the time series data sets in the repository."
   ]
  },
  {
   "cell_type": "code",
   "execution_count": null,
   "metadata": {},
   "outputs": [],
   "source": [
    "## Code here\n",
    "\n",
    "\n",
    "\n",
    "\n",
    "\n",
    "\n",
    "\n",
    "\n",
    "\n",
    "\n"
   ]
  },
  {
   "cell_type": "code",
   "execution_count": null,
   "metadata": {},
   "outputs": [],
   "source": [
    "## Code here\n",
    "\n",
    "\n",
    "\n",
    "\n",
    "\n",
    "\n",
    "\n",
    "\n",
    "\n",
    "\n"
   ]
  },
  {
   "cell_type": "code",
   "execution_count": null,
   "metadata": {},
   "outputs": [],
   "source": [
    "## Code here\n",
    "\n",
    "\n",
    "\n",
    "\n",
    "\n",
    "\n",
    "\n",
    "\n",
    "\n",
    "\n"
   ]
  },
  {
   "cell_type": "markdown",
   "metadata": {},
   "source": [
    "### A Simple Method for Trends - The Drift Method\n",
    "\n",
    "Another simple forecasting method we didn't mention in class allows you to build a forecast for trending data.\n",
    "\n",
    "This is a variation on the na&iuml;ve method allows for your forecast to increase or decrease over time, using the average change from the historical (training) data.\n",
    "\n",
    "The forecast is given by:\n",
    "$$\n",
    "\\hat{y}_{T+h|T} = y_T + \\frac{h}{T-1} \\sum_{t=2}^T (y_t - y_{t-1}) = y_T + h\\left( \\frac{y_T - y_1}{T-1} \\right)\n",
    "$$\n",
    "\n",
    "Use this to build a forecast on the `elec` data. Use a maximum horizon of $2$ years. Plot the data with the forecast you've made."
   ]
  },
  {
   "cell_type": "code",
   "execution_count": null,
   "metadata": {},
   "outputs": [],
   "source": [
    "## Code here\n",
    "\n",
    "\n",
    "\n",
    "\n",
    "\n",
    "\n",
    "\n",
    "\n",
    "\n",
    "\n"
   ]
  },
  {
   "cell_type": "code",
   "execution_count": null,
   "metadata": {},
   "outputs": [],
   "source": [
    "## Code here\n",
    "\n",
    "\n",
    "\n",
    "\n",
    "\n",
    "\n",
    "\n",
    "\n",
    "\n",
    "\n"
   ]
  },
  {
   "cell_type": "markdown",
   "metadata": {},
   "source": [
    "### Transformation\n",
    "\n",
    "Sometimes it is helpful to transform your time series data before fitting a model to it.\n",
    "\n",
    "#### Calendar Transformation\n",
    "\n",
    "These types of transformations can help remove variations in the data that are due to simple calendar effects. For example, it is possible that some months have a greater production simply due to the fact that they have more days than other months.\n",
    "\n",
    "Read in the `milk.csv` data below. Then adjust the monthly values to be gallons per day as opposed to just gallons. Make a new plot of month vs gallons per day, what do you notice."
   ]
  },
  {
   "cell_type": "code",
   "execution_count": null,
   "metadata": {},
   "outputs": [],
   "source": [
    "milk = pd.read_csv(\"milk.csv\", parse_dates=['month'])\n",
    "milk.head()"
   ]
  },
  {
   "cell_type": "code",
   "execution_count": null,
   "metadata": {},
   "outputs": [],
   "source": [
    "plt.figure(figsize=(12,6))\n",
    "\n",
    "plt.plot(milk.month,milk.gallons)\n",
    "\n",
    "plt.show()"
   ]
  },
  {
   "cell_type": "code",
   "execution_count": null,
   "metadata": {},
   "outputs": [],
   "source": [
    "## Code here\n",
    "\n",
    "\n",
    "\n",
    "\n",
    "\n",
    "\n",
    "\n",
    "\n",
    "\n",
    "\n"
   ]
  },
  {
   "cell_type": "code",
   "execution_count": null,
   "metadata": {},
   "outputs": [],
   "source": [
    "## Code here\n",
    "\n",
    "\n",
    "\n",
    "\n",
    "\n",
    "\n",
    "\n",
    "\n",
    "\n",
    "\n"
   ]
  },
  {
   "cell_type": "code",
   "execution_count": null,
   "metadata": {},
   "outputs": [],
   "source": [
    "## Code here\n",
    "\n",
    "\n",
    "\n",
    "\n",
    "\n",
    "\n",
    "\n",
    "\n",
    "\n",
    "\n"
   ]
  },
  {
   "cell_type": "markdown",
   "metadata": {},
   "source": [
    "#### Box-Cox Transformations\n",
    "\n",
    "Sometimes it may be useful to perform a mathematical transformation to the data. For example, it is possible to have a time series where the seasonal variation increases or decreases over time. It is more desirable to have a time series with seasonal variation that is constant over time.\n",
    "\n",
    "One common transformation that is helpful the <i>box-cox transformation</i>. For a given value of $\\lambda$ the box-cox transfomation takes $y_t$ and produces a new time series $w_t$ like so:\n",
    "$$\n",
    "w_t = \\left\\lbrace \\begin{array}{l l}\n",
    "    \\log(y_t) & \\text{if } \\lambda = 0, \\\\\n",
    "    \\left( y_t^\\lambda - 1 \\right)/\\lambda & \\text{else}.\n",
    "\\end{array} \\right.\n",
    "$$\n",
    "\n",
    "Write a function that will take in a value of $\\lambda$ and perform a Box-Cox transformation on a time series. Use this function to find a value of $\\lambda$ in $[0,2]$ that produces a constant variation across time for the `elec.csv` data. Do this through visual inspection."
   ]
  },
  {
   "cell_type": "code",
   "execution_count": null,
   "metadata": {},
   "outputs": [],
   "source": [
    "## Code here\n",
    "\n",
    "\n",
    "\n",
    "\n",
    "\n",
    "\n",
    "\n",
    "\n",
    "\n",
    "\n"
   ]
  },
  {
   "cell_type": "code",
   "execution_count": null,
   "metadata": {},
   "outputs": [],
   "source": [
    "## Code here\n",
    "\n",
    "\n",
    "\n",
    "\n",
    "\n",
    "\n",
    "\n",
    "\n",
    "\n",
    "\n"
   ]
  },
  {
   "cell_type": "code",
   "execution_count": null,
   "metadata": {},
   "outputs": [],
   "source": [
    "## Code here\n",
    "\n",
    "\n",
    "\n",
    "\n",
    "\n",
    "\n",
    "\n",
    "\n",
    "\n",
    "\n"
   ]
  },
  {
   "cell_type": "markdown",
   "metadata": {},
   "source": [
    "### Linear Regression with Time Series Data\n",
    "\n",
    "All of the material we learned in the Regression materials does not immediately go out the window when dealing with time series data. However, we now have to be more careful in the modeling process.\n",
    "\n",
    "Read in the `uschange.csv` data below. In addition to our standard regression exploratory data analysis create side by side time series plots of the variables in the dataset. Then build a multiple linear regression model to predict `Consumption` using the other variables."
   ]
  },
  {
   "cell_type": "code",
   "execution_count": null,
   "metadata": {},
   "outputs": [],
   "source": [
    "uschange = pd.read_csv(\"uschange.csv\")"
   ]
  },
  {
   "cell_type": "code",
   "execution_count": null,
   "metadata": {},
   "outputs": [],
   "source": [
    "## Code here\n",
    "\n",
    "\n",
    "\n",
    "\n",
    "\n",
    "\n",
    "\n",
    "\n",
    "\n",
    "\n"
   ]
  },
  {
   "cell_type": "code",
   "execution_count": null,
   "metadata": {},
   "outputs": [],
   "source": [
    "## Code here\n",
    "\n",
    "\n",
    "\n",
    "\n",
    "\n",
    "\n",
    "\n",
    "\n",
    "\n",
    "\n"
   ]
  },
  {
   "cell_type": "code",
   "execution_count": null,
   "metadata": {},
   "outputs": [],
   "source": [
    "## Code here\n",
    "\n",
    "\n",
    "\n",
    "\n",
    "\n",
    "\n",
    "\n",
    "\n",
    "\n",
    "\n"
   ]
  },
  {
   "cell_type": "code",
   "execution_count": null,
   "metadata": {},
   "outputs": [],
   "source": [
    "## Code here\n",
    "\n",
    "\n",
    "\n",
    "\n",
    "\n",
    "\n",
    "\n",
    "\n",
    "\n",
    "\n"
   ]
  },
  {
   "cell_type": "markdown",
   "metadata": {},
   "source": [
    "Check your model residuals for the following time series version of our linear regression assumptions.\n",
    "\n",
    "<q>First, we assume that the model is a reasonable approximation to reality; that is, the relationship between the forecast variable and the predictor variables satisfies this linear equation.\n",
    "\n",
    "Second, we make the following assumptions about the errors $(\\epsilon_1,..,\\epsilon_T)$:\n",
    "<ul>\n",
    "    <li>they have mean zero; otherwise the forecasts will be systematically biased.</li>\n",
    "    <li>they are not autocorrelated; otherwise the forecasts will be inefficient, as there is more information in the data that can be exploited.</li>\n",
    "    <li>they are unrelated to the predictor variables; otherwise there would be more information that should be included in the systematic part of the model.</li>\n",
    "</ul>\n",
    "\n",
    "It is also useful to have the errors being normally distributed with a constant variance σ2\n",
    "in order to easily produce prediction intervals.</q> From <a href=\"https://otexts.com/fpp2/regression-intro.html\">Forecasting: Principles and Practice</a>.\n",
    "\n",
    "\n",
    "Note we'll return to what to do if these assumptions are violated below."
   ]
  },
  {
   "cell_type": "code",
   "execution_count": null,
   "metadata": {},
   "outputs": [],
   "source": [
    "## Code here\n",
    "\n",
    "\n",
    "\n",
    "\n",
    "\n",
    "\n",
    "\n",
    "\n",
    "\n",
    "\n"
   ]
  },
  {
   "cell_type": "code",
   "execution_count": null,
   "metadata": {},
   "outputs": [],
   "source": [
    "## Code here\n",
    "\n",
    "\n",
    "\n",
    "\n",
    "\n",
    "\n",
    "\n",
    "\n",
    "\n",
    "\n"
   ]
  },
  {
   "cell_type": "code",
   "execution_count": null,
   "metadata": {},
   "outputs": [],
   "source": [
    "## Code here\n",
    "\n",
    "\n",
    "\n",
    "\n",
    "\n",
    "\n",
    "\n",
    "\n",
    "\n",
    "\n"
   ]
  },
  {
   "cell_type": "markdown",
   "metadata": {},
   "source": [
    "### A Unit Root Test for Stationarity\n",
    "\n",
    "Sometimes you may want a more statistically sound way to test for stationarity. One such way is the unit root test.\n",
    "\n",
    "The version of the test utilized by `statsmodels` is the Dickey-Fuller test <a href=\"https://en.wikipedia.org/wiki/Augmented_Dickey%E2%80%93Fuller_test\">https://en.wikipedia.org/wiki/Augmented_Dickey%E2%80%93Fuller_test</a>. In this test the null hypothesis is that a unit root is present in the time series data, while the alternative is that there is no unit root. If your $p$-value is below a predetermined level you reject the null hypothesis, a common rule of thumb is below $0.05$, in which case there is evidence of stationarity.\n",
    "\n",
    "You can perform this test in python using this code. We demonstrate with a time series we've decided has stationarity based on the image the google differenced data. You then perform the test on the lynx data."
   ]
  },
  {
   "cell_type": "code",
   "execution_count": null,
   "metadata": {},
   "outputs": [],
   "source": [
    "from statsmodels.tsa.api import adfuller"
   ]
  },
  {
   "cell_type": "code",
   "execution_count": null,
   "metadata": {},
   "outputs": [],
   "source": [
    "goog_diff = pd.read_csv(\"goog_diff.csv\")\n",
    "goog_diff.head()"
   ]
  },
  {
   "cell_type": "code",
   "execution_count": null,
   "metadata": {},
   "outputs": [],
   "source": [
    "# run the test like so\n",
    "unit_test = adfuller(goog_diff.day_to_day_diff)"
   ]
  },
  {
   "cell_type": "code",
   "execution_count": null,
   "metadata": {},
   "outputs": [],
   "source": [
    "# print p-value\n",
    "np.round(unit_test[1],8)"
   ]
  },
  {
   "cell_type": "code",
   "execution_count": null,
   "metadata": {},
   "outputs": [],
   "source": [
    "lynx = pd.read_csv(\"lynx.csv\")"
   ]
  },
  {
   "cell_type": "code",
   "execution_count": null,
   "metadata": {},
   "outputs": [],
   "source": [
    "## Code here\n",
    "\n",
    "\n",
    "\n",
    "\n",
    "\n",
    "\n",
    "\n",
    "\n",
    "\n",
    "\n"
   ]
  },
  {
   "cell_type": "code",
   "execution_count": null,
   "metadata": {},
   "outputs": [],
   "source": [
    "## Code here\n",
    "\n",
    "\n",
    "\n",
    "\n",
    "\n",
    "\n",
    "\n",
    "\n",
    "\n",
    "\n"
   ]
  },
  {
   "cell_type": "markdown",
   "metadata": {},
   "source": [
    "### Seasonal ARIMA Models\n",
    "\n",
    "Seasonal extensions of the ARIMA framework exist and are formulated in a similar manner as standard ARIMA models.\n",
    "\n",
    "For seasonal models we have ARIMA$(p,d,q),(P,D,Q)_m$ models where the second set of variables correspond to the seasonal part of the model, and $m$ is the number of timesteps for one season to complete.\n",
    "\n",
    "Read the documentation here, <a href=\"https://www.statsmodels.org/stable/generated/statsmodels.tsa.arima.model.ARIMA.html\">https://www.statsmodels.org/stable/generated/statsmodels.tsa.arima.model.ARIMA.html</a>, to learn how to implement seasonal ARIMA in python. Then use it to predict measles cases from 1959 to 1963."
   ]
  },
  {
   "cell_type": "code",
   "execution_count": null,
   "metadata": {},
   "outputs": [],
   "source": [
    "## Code here\n",
    "\n",
    "\n",
    "\n",
    "\n",
    "\n",
    "\n",
    "\n",
    "\n",
    "\n",
    "\n"
   ]
  },
  {
   "cell_type": "code",
   "execution_count": null,
   "metadata": {},
   "outputs": [],
   "source": [
    "## Code here\n",
    "\n",
    "\n",
    "\n",
    "\n",
    "\n",
    "\n",
    "\n",
    "\n",
    "\n",
    "\n"
   ]
  },
  {
   "cell_type": "code",
   "execution_count": null,
   "metadata": {},
   "outputs": [],
   "source": [
    "## Code here\n",
    "\n",
    "\n",
    "\n",
    "\n",
    "\n",
    "\n",
    "\n",
    "\n",
    "\n",
    "\n"
   ]
  },
  {
   "cell_type": "code",
   "execution_count": null,
   "metadata": {},
   "outputs": [],
   "source": [
    "## Code here\n",
    "\n",
    "\n",
    "\n",
    "\n",
    "\n",
    "\n",
    "\n",
    "\n",
    "\n",
    "\n"
   ]
  },
  {
   "cell_type": "markdown",
   "metadata": {},
   "source": [
    "### Dynamic Regression Models\n",
    "\n",
    "We end the Time Series homework by presenting a way to combine linear regression methods with ARIMA to make forecasts that consider both other features and the temporal nature of the data.\n",
    "\n",
    "If you'd like to read about it check out chapter 9 of <a href=\"https://otexts.com/fpp2/dynamic.html\">Forecasting: Principles and Practice</a>.\n",
    "\n",
    "The typical approach is to fit your linear regression model:\n",
    "$$\n",
    "y = X\\beta + \\epsilon\n",
    "$$.\n",
    "\n",
    "Then you form a new time series $\\eta_t$ from the residuals:\n",
    "$$\n",
    "\\eta_t = y_t - \\hat{y}_t\n",
    "$$\n",
    "\n",
    "You then model the time dependence in the residuals using an ARIMA model.\n",
    "\n",
    "Now we could try and estimate such a model by estimating $\\beta$ independently of our ARIMA model, but this is not statistically sound. Remember OLS regression estimates involve the assumption that our errors are independent, but by the point of an ARIMA model is that they are, in fact, not independent.\n",
    "\n",
    "The preferred approach is to fit the entirety of the model at once. This can be done by adding an `exog = OLS Features` argument when you run `ARIMA(time_series)`. Do this to predict the Consumption from the uschange dataset. Use a maximum horizon of $10$ time steps."
   ]
  },
  {
   "cell_type": "code",
   "execution_count": null,
   "metadata": {},
   "outputs": [],
   "source": [
    "uschange = pd.read_csv(\"uschange.csv\")"
   ]
  },
  {
   "cell_type": "code",
   "execution_count": null,
   "metadata": {},
   "outputs": [],
   "source": [
    "## Code here\n",
    "\n",
    "\n",
    "\n",
    "\n",
    "\n",
    "\n",
    "\n",
    "\n",
    "\n",
    "\n"
   ]
  },
  {
   "cell_type": "code",
   "execution_count": null,
   "metadata": {},
   "outputs": [],
   "source": [
    "## Code here\n",
    "\n",
    "\n",
    "\n",
    "\n",
    "\n",
    "\n",
    "\n",
    "\n",
    "\n",
    "\n"
   ]
  },
  {
   "cell_type": "code",
   "execution_count": null,
   "metadata": {},
   "outputs": [],
   "source": [
    "## Code here\n",
    "\n",
    "\n",
    "\n",
    "\n",
    "\n",
    "\n",
    "\n",
    "\n",
    "\n",
    "\n"
   ]
  },
  {
   "cell_type": "code",
   "execution_count": null,
   "metadata": {},
   "outputs": [],
   "source": [
    "## Code here\n",
    "\n",
    "\n",
    "\n",
    "\n",
    "\n",
    "\n",
    "\n",
    "\n",
    "\n",
    "\n"
   ]
  },
  {
   "cell_type": "code",
   "execution_count": null,
   "metadata": {},
   "outputs": [],
   "source": [
    "## Code here\n",
    "\n",
    "\n",
    "\n",
    "\n",
    "\n",
    "\n",
    "\n",
    "\n",
    "\n",
    "\n"
   ]
  },
  {
   "cell_type": "code",
   "execution_count": null,
   "metadata": {},
   "outputs": [],
   "source": []
  }
 ],
 "metadata": {
  "kernelspec": {
   "display_name": "Python 3",
   "language": "python",
   "name": "python3"
  },
  "language_info": {
   "codemirror_mode": {
    "name": "ipython",
    "version": 3
   },
   "file_extension": ".py",
   "mimetype": "text/x-python",
   "name": "python",
   "nbconvert_exporter": "python",
   "pygments_lexer": "ipython3",
   "version": "3.7.4"
  }
 },
 "nbformat": 4,
 "nbformat_minor": 2
}
